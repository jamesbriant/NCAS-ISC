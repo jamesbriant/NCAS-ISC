{
 "cells": [
  {
   "cell_type": "markdown",
   "metadata": {
    "pycharm": {
     "name": "#%% md\n"
    }
   },
   "source": [
    "# Exercise 13: NumPy Arrays\n",
    "\n",
    "## 1. Introduction to NumPy arrays\n",
    "\n",
    "### Aim: Introduce the basic NumPy array creation and indexing\n",
    "\n",
    "Issues covered:\n",
    "\n",
    "- Importing NumPy\n",
    "- Creating an array from a list\n",
    "- Creating arrays of zeroes or ones\n",
    "- Understanding array type codes\n",
    "- Array indexing and slicing\n",
    "\n",
    "Import the `numpy` library as `np`"
   ]
  },
  {
   "cell_type": "code",
   "execution_count": 37,
   "metadata": {
    "collapsed": false,
    "jupyter": {
     "outputs_hidden": false
    },
    "pycharm": {
     "name": "#%%\n"
    }
   },
   "outputs": [],
   "source": [
    "import numpy as np"
   ]
  },
  {
   "cell_type": "markdown",
   "metadata": {},
   "source": [
    "### Let's create a numpy array from a list.\n",
    "\n",
    "Create a with values 1 to 10 and assign it to the variable `x`"
   ]
  },
  {
   "cell_type": "code",
   "execution_count": 38,
   "metadata": {
    "collapsed": false,
    "jupyter": {
     "outputs_hidden": false
    },
    "pycharm": {
     "name": "#%%\n"
    }
   },
   "outputs": [],
   "source": [
    "x = np.array(range(1, 11))"
   ]
  },
  {
   "cell_type": "markdown",
   "metadata": {},
   "source": [
    "Create a numpy integer array using `x` and print its `dtype`"
   ]
  },
  {
   "cell_type": "code",
   "execution_count": 39,
   "metadata": {
    "collapsed": false,
    "jupyter": {
     "outputs_hidden": false
    },
    "pycharm": {
     "name": "#%%\n"
    }
   },
   "outputs": [
    {
     "name": "stdout",
     "output_type": "stream",
     "text": [
      "int64\n"
     ]
    }
   ],
   "source": [
    "x2 = np.array(range(1, 11), dtype=int)\n",
    "print(x2.dtype)"
   ]
  },
  {
   "cell_type": "markdown",
   "metadata": {
    "pycharm": {
     "name": "#%% md\n"
    }
   },
   "source": [
    "Create a numpy float array using `x` and print its `dtype`"
   ]
  },
  {
   "cell_type": "code",
   "execution_count": 40,
   "metadata": {
    "collapsed": false,
    "jupyter": {
     "outputs_hidden": false
    },
    "pycharm": {
     "name": "#%%\n"
    }
   },
   "outputs": [
    {
     "name": "stdout",
     "output_type": "stream",
     "text": [
      "float64\n"
     ]
    }
   ],
   "source": [
    "x3 = np.array(range(1, 11), dtype=float)\n",
    "print(x3.dtype)"
   ]
  },
  {
   "cell_type": "markdown",
   "metadata": {},
   "source": [
    "### Let's create arrays in different way.\n",
    "\n",
    "- Create an array of shape (2, 3, 4) of zeros\n",
    "- Create an array of shape (2, 3, 4) of ones.\n",
    "- Create an array with values 0 to 999 using the `np.arrange` function."
   ]
  },
  {
   "cell_type": "code",
   "execution_count": 41,
   "metadata": {
    "collapsed": false,
    "jupyter": {
     "outputs_hidden": false
    },
    "pycharm": {
     "name": "#%%\n"
    }
   },
   "outputs": [],
   "source": [
    "zeros = np.zeros((2,3,4))\n",
    "ones = np.ones((2,3,4))\n",
    "arr = np.arange(0,1000)"
   ]
  },
  {
   "cell_type": "markdown",
   "metadata": {},
   "source": [
    "### Let's look at indexing and slicing arrays.\n",
    "\n",
    "Create an array from the list `[2, 3.2, 5.5, -6.4, -2.2, 2.4]` and assign it to the variable `a`\n",
    "\n",
    "- Do you know what `a[1]` will equal? Print to see.\n",
    "- Try print `a[1:4]` to see what that equals."
   ]
  },
  {
   "cell_type": "code",
   "execution_count": 42,
   "metadata": {
    "collapsed": false,
    "jupyter": {
     "outputs_hidden": false
    },
    "pycharm": {
     "name": "#%%\n"
    }
   },
   "outputs": [
    {
     "name": "stdout",
     "output_type": "stream",
     "text": [
      "3.2\n",
      "[3.2, 5.5, -6.4]\n"
     ]
    }
   ],
   "source": [
    "a = [2, 3.2, 5.5, -6.4, -2.2, 2.4]\n",
    "print(a[1])\n",
    "print(a[1:4])"
   ]
  },
  {
   "cell_type": "markdown",
   "metadata": {},
   "source": [
    "Create a 2-D array from the following list and assign it to the variable `a`:\n",
    "```python\n",
    "[\n",
    "    [2, 3.2, 5.5, -6.4, -2.2, 2.4],\n",
    "    [1, 22, 4, 0.1, 5.3, -9],\n",
    "    [3, 1, 2.1, 21, 1.1, -2]\n",
    "]\n",
    "```\n",
    "\n",
    "Can you guess what the following slices are equal to? Print them to check your understanding.\n",
    "\n",
    "- `a[:, 3]`\n",
    "- `a[1:4, 0:4]`\n",
    "- `a[1:, 2]`"
   ]
  },
  {
   "cell_type": "code",
   "execution_count": 92,
   "metadata": {
    "collapsed": false,
    "jupyter": {
     "outputs_hidden": false
    },
    "pycharm": {
     "name": "#%%\n"
    }
   },
   "outputs": [
    {
     "name": "stdout",
     "output_type": "stream",
     "text": [
      "[-6.4  0.1 21. ] \n",
      "\n",
      "[[ 1.  22.   4.   0.1]\n",
      " [ 3.   1.   2.1 21. ]] \n",
      "\n",
      "[4.  2.1] \n",
      "\n",
      "[1. 3.] \n",
      "\n"
     ]
    }
   ],
   "source": [
    "a = np.array([\n",
    "    [2, 3.2, 5.5, -6.4, -2.2, 2.4],\n",
    "    [1, 22, 4, 0.1, 5.3, -9],\n",
    "    [3, 1, 2.1, 21, 1.1, -2]\n",
    "])\n",
    "print(a[:, 3], '\\n')\n",
    "print(a[1:4, 0:4], '\\n')\n",
    "print(a[1:, 2], '\\n')"
   ]
  },
  {
   "cell_type": "markdown",
   "metadata": {},
   "source": [
    "## 2. Interrogating and manipulating arrays\n",
    "\n",
    "### Aim: Learn how to interrogate and manipulate NumPy Arrays\n",
    "\n",
    "Issues covered:\n",
    "\n",
    "- Interrogating the properties of an array\n",
    "- Manipulating arrays to change their properties\n",
    "\n",
    "### Let's interrogate an array to find out it's characteristics\n",
    "\n",
    "Create a 2-D array of shape (2, 4) containg two lists `range(4)` and `range(10, 14)`, assign it to the vairable `arr`\n",
    "\n",
    "- Print the shape of the array\n",
    "- Print the size of the array\n",
    "- Print and maximum and minimum of the array"
   ]
  },
  {
   "cell_type": "code",
   "execution_count": 44,
   "metadata": {
    "collapsed": false,
    "jupyter": {
     "outputs_hidden": false
    },
    "pycharm": {
     "name": "#%%\n"
    }
   },
   "outputs": [],
   "source": [
    "arr = np.array([range(4), range(10, 14)])"
   ]
  },
  {
   "cell_type": "markdown",
   "metadata": {},
   "source": [
    "### Let's generate new arrays by modifying our array\n",
    "\n",
    "Continue to use the array, `arr`, as defined above\n",
    "\n",
    "- Print the array re-shaped to (2, 2, 2)\n",
    "- Print the array transposed\n",
    "- Print the array flattened to a single dimension\n",
    "- Print the array converted to floats"
   ]
  },
  {
   "cell_type": "code",
   "execution_count": 46,
   "metadata": {
    "collapsed": false,
    "jupyter": {
     "outputs_hidden": false
    },
    "pycharm": {
     "name": "#%%\n"
    }
   },
   "outputs": [
    {
     "name": "stdout",
     "output_type": "stream",
     "text": [
      "[[[ 0  1]\n",
      "  [ 2  3]]\n",
      "\n",
      " [[10 11]\n",
      "  [12 13]]] \n",
      "\n",
      "[[ 0 10]\n",
      " [ 1 11]\n",
      " [ 2 12]\n",
      " [ 3 13]] \n",
      "\n",
      "[ 0  1  2  3 10 11 12 13] \n",
      "\n",
      "[[ 0.  1.  2.  3.]\n",
      " [10. 11. 12. 13.]] \n",
      "\n"
     ]
    }
   ],
   "source": [
    "print(np.reshape(arr, (2,2,2)), '\\n')\n",
    "print(np.transpose(arr), '\\n')\n",
    "print(np.ravel(arr), '\\n')\n",
    "print(arr.astype(np.float64), '\\n')"
   ]
  },
  {
   "cell_type": "markdown",
   "metadata": {},
   "source": [
    "## 3. Array calculation and operations\n",
    "\n",
    "### Aim: Use NumPy arrays in mathematical calculations\n",
    "\n",
    "Issues covered:\n",
    "\n",
    "- Mathematical operations with arrays\n",
    "- Mathematical operations mixing scalars and arrays\n",
    "- Comparison operators and Boolean operations on arrays\n",
    "- Using the `where` method\n",
    "- Writing a function to work on arrays\n",
    "\n",
    "### Let's perform some array calculations\n",
    "\n",
    "Create a 2-D array of shape (2, 4) containg two lists `range(4)` and `range(10, 14)`, assign it to the vairable `a`\n",
    "\n",
    "Create an array from a list `[2, -1, 1, 0]` and assign it to the variable `b`\n",
    "\n",
    "- Multiply array `a` by `b` and print the result. Do you understand how numpy has used its *broadcasting* feature to do the calculation even though the arrays are different shapes?\n",
    "- Multiply array `b` by 100 and assign the result to variable `b1` with `np.multiply`\n",
    "- Multiply array `b` by 100.0 and assign the result to the variable `b2` with `np.multiply`\n",
    "- Print the arrays `b1` and `b2`\n",
    "- Print `b1 == b2`, are they the same?\n",
    "- Why do they display differently? Interrogate the `dtype` of each array to find out why"
   ]
  },
  {
   "cell_type": "code",
   "execution_count": 47,
   "metadata": {
    "collapsed": false,
    "jupyter": {
     "outputs_hidden": false
    },
    "pycharm": {
     "name": "#%%\n"
    }
   },
   "outputs": [
    {
     "name": "stdout",
     "output_type": "stream",
     "text": [
      "[[  0  -1   2   0]\n",
      " [ 20 -11  12   0]] \n",
      "\n",
      "[ 200 -100  100    0] \n",
      "\n",
      "[ 200. -100.  100.    0.] \n",
      "\n",
      "[ True  True  True  True] \n",
      "\n",
      "int64\n",
      "float64\n"
     ]
    }
   ],
   "source": [
    "a = np.array([range(4), range(10, 14)])\n",
    "b = np.array([2, -1, 1, 0])\n",
    "\n",
    "print(a*b, '\\n')\n",
    "\n",
    "b1 = np.multiply(100, b)\n",
    "b2 = np.multiply(100.0, b)\n",
    "\n",
    "print(b1, '\\n')\n",
    "print(b2, '\\n')\n",
    "\n",
    "print(b1 == b2, '\\n')\n",
    "\n",
    "print(b1.dtype)\n",
    "print(b2.dtype)"
   ]
  },
  {
   "cell_type": "markdown",
   "metadata": {},
   "source": [
    "### Let's look at array comparisons\n",
    "\n",
    "Create an array of values 0 to 9 and assign it to the variable `arr`\n",
    "\n",
    "- Print two different way of expressing the condition where the array is less than 3.\n",
    "- Create a numpy condition where `arr` is less than 3 OR greater than 8.\n",
    "- Use the `where` function to create a new array where the value is `arr*5` if the above condition is `True` and `arr-5` where the condition is `False`"
   ]
  },
  {
   "cell_type": "code",
   "execution_count": 57,
   "metadata": {
    "collapsed": false,
    "jupyter": {
     "outputs_hidden": false
    },
    "pycharm": {
     "name": "#%%\n"
    }
   },
   "outputs": [
    {
     "name": "stdout",
     "output_type": "stream",
     "text": [
      "[True, True, True, False, False, False, False, False, False, False]\n",
      "[ True  True  True False False False False False False False]\n"
     ]
    },
    {
     "data": {
      "text/plain": [
       "array([ 0,  5, 10, -2, -1,  0,  1,  2,  3,  4])"
      ]
     },
     "execution_count": 57,
     "metadata": {},
     "output_type": "execute_result"
    }
   ],
   "source": [
    "arr = np.array(range(10))\n",
    "\n",
    "print([True if x < 3 else False for x in arr])\n",
    "\n",
    "cond = np.less(arr, 3)\n",
    "print(cond)\n",
    "\n",
    "np.where(cond, arr*5, arr-5)\n"
   ]
  },
  {
   "cell_type": "markdown",
   "metadata": {},
   "source": [
    "### Let's implement a mathematical function that works on arrays.\n",
    "\n",
    "Write a function that takes a 2-D array of horizontal zonal (east-west) wind components (`u`, in m/s) and a 2-D array of horizontal meridional (north-south) wind componenets (`v`, in m/s)\n",
    "and returns an array of the magnitudes of the total wind.\n",
    "Include a test for the overall magnitude: if it is less than 0.1 then set it equal to 0.1 (We might presume this particular domain has no non-zero winds and that only winds above 0.1 m/s constitute \"good\" data while those below are indistinguishable from the minimum due noise)\n",
    "\n",
    "The return value should be an array of the same shape and type as the input arrays. The magnitude of the wind can be calculated as the square root of the sum of the squares of the `u` and `v` winds.\n",
    "\n",
    "- Test your function on `u = [[4, 5, 6], [2, 3, 4]]` and `v = [[2, 2, 2], [1, 1, 1]]` values.\n",
    "- Test your function on `u = [[4, 5, 0.01], [2, 3, 4]]` and `v = [[2, 2, 0.03], [1, 1, 1]]` values. Does your default minimum magnitude get used?"
   ]
  },
  {
   "cell_type": "code",
   "execution_count": 99,
   "metadata": {
    "collapsed": false,
    "jupyter": {
     "outputs_hidden": false
    },
    "pycharm": {
     "name": "#%%\n"
    }
   },
   "outputs": [
    {
     "name": "stdout",
     "output_type": "stream",
     "text": [
      "[[4.47213595 5.38516481 6.32455532]\n",
      " [2.23606798 3.16227766 4.12310563]]\n",
      "[[4.47213595 5.38516481 0.1       ]\n",
      " [2.23606798 3.16227766 4.12310563]]\n"
     ]
    }
   ],
   "source": [
    "u = [[4, 5, 6], [2, 3, 4]]\n",
    "v = [[2, 2, 2], [1, 1, 1]]\n",
    "\n",
    "def calc_magnitude(u, v):\n",
    "    mag = np.sqrt(np.power(u, 2) + np.power(v, 2))\n",
    "    output = np.where(mag < 0.1, 0.1, mag)\n",
    "    return(output)\n",
    "    \n",
    "print(calc_magnitude(u, v))\n",
    "\n",
    "u = [[4, 5, 0.01], [2, 3, 4]]\n",
    "v = [[2, 2, 0.03], [1, 1, 1]]\n",
    "\n",
    "print(calc_magnitude(u, v))"
   ]
  },
  {
   "cell_type": "markdown",
   "metadata": {},
   "source": [
    "## 4. Working with missing values\n",
    "\n",
    "### Aim: An introduction to masked arrays to represent missing values\n",
    "\n",
    "Issues covered:\n",
    "\n",
    "- Creating a masked array\n",
    "- Masking certain values in an array\n",
    "- Using the `masked_where` function to create a masked array\n",
    "- Applying a mask to an existing array\n",
    "- Performing calculation with masked arrays\n",
    "\n",
    "### Let's create a masked array and play with it\n",
    "\n",
    "Import the `numpy.ma` module as `MA`"
   ]
  },
  {
   "cell_type": "code",
   "execution_count": 59,
   "metadata": {
    "collapsed": false,
    "jupyter": {
     "outputs_hidden": false
    },
    "pycharm": {
     "name": "#%%\n"
    }
   },
   "outputs": [],
   "source": [
    "import numpy.ma as MA"
   ]
  },
  {
   "cell_type": "markdown",
   "metadata": {},
   "source": [
    "Create a masked array from a list of values (0 to 9) with a `fill_value` of -999 and assign it to the variable `marr`\n",
    "\n",
    "- Print the array to view its values. Print the `fill_value` attribute.\n",
    "- Mask the third value in the array using `MA.masked`, print the array to view how it has changed.\n",
    "- Print the mask associated with the array (i.e. `marr.mask`)"
   ]
  },
  {
   "cell_type": "code",
   "execution_count": 67,
   "metadata": {
    "collapsed": false,
    "jupyter": {
     "outputs_hidden": false
    },
    "pycharm": {
     "name": "#%%\n"
    }
   },
   "outputs": [
    {
     "name": "stdout",
     "output_type": "stream",
     "text": [
      "[0 1 2 3 4 5 6 7 8 9]\n",
      "-999\n",
      "[0 1 -- 3 4 5 6 7 8 9]\n"
     ]
    },
    {
     "data": {
      "text/plain": [
       "array([False, False,  True, False, False, False, False, False, False,\n",
       "       False])"
      ]
     },
     "execution_count": 67,
     "metadata": {},
     "output_type": "execute_result"
    }
   ],
   "source": [
    "marr = MA.masked_array(range(10), fill_value=-999)\n",
    "print(marr)\n",
    "print(marr.fill_value)\n",
    "\n",
    "marr[2] = MA.masked\n",
    "print(marr)\n",
    "marr.mask"
   ]
  },
  {
   "cell_type": "markdown",
   "metadata": {},
   "source": [
    "Create a new masked array called `narr` that is equal to `marr` where `marr` is less than 7 and masked otherwise.\n",
    "\n",
    "- Print the array to view its values.\n",
    "- Print its missing value (i.e. `narr.fill_value`)\n",
    "- Print an array that converts `narr` so that the missing values are represented by the missing value (i.e. `MA.filled`). Assign it to `farr`\n",
    "- What is the type of the `farr`"
   ]
  },
  {
   "cell_type": "code",
   "execution_count": 78,
   "metadata": {
    "collapsed": false,
    "jupyter": {
     "outputs_hidden": false
    },
    "pycharm": {
     "name": "#%%\n"
    }
   },
   "outputs": [
    {
     "name": "stdout",
     "output_type": "stream",
     "text": [
      "[0 1 -- 3 4 5 6 -- -- --]\n",
      "-999\n",
      "[   0    1 -999    3    4    5    6 -999 -999 -999]\n",
      "<class 'numpy.ndarray'>\n"
     ]
    }
   ],
   "source": [
    "narr = MA.masked_where(marr >= 7, marr)\n",
    "print(narr)\n",
    "\n",
    "print(narr.fill_value)\n",
    "\n",
    "print(MA.filled(narr))\n",
    "\n",
    "farr = MA.filled(narr)\n",
    "print(type(farr))"
   ]
  },
  {
   "cell_type": "markdown",
   "metadata": {},
   "source": [
    "### Let's create a mask that is smaller than the overall array\n",
    "\n",
    "- Create a masked array of values 1 to 8 and assign it to the variable `m1`, print `m1`\n",
    "- Re-shape the array to the shape `(2, 4)` and assign it to the variable `m2`, print `m2`\n",
    "- Mask values of `m2` greater than 6 and assign the result to the variable `m3`, print `m3`\n",
    "- Print `m3` multiplied by 100\n",
    "- Subtract `m3` by a normal numpy array of `ones` that is the same shape as `m3` and assign it to he variable `m4`, print `m4`\n",
    "- Is `m4` a normal array or masked array?"
   ]
  },
  {
   "cell_type": "code",
   "execution_count": 88,
   "metadata": {
    "collapsed": false,
    "jupyter": {
     "outputs_hidden": false
    },
    "pycharm": {
     "name": "#%%\n"
    }
   },
   "outputs": [
    {
     "name": "stdout",
     "output_type": "stream",
     "text": [
      "[1 2 3 4 5 6 7 8]\n",
      "[[1 2 3 4]\n",
      " [5 6 7 8]]\n",
      "[[1 2 3 4]\n",
      " [5 6 -- --]]\n",
      "[[100 200 300 400]\n",
      " [500 600 -- --]]\n",
      "[[0.0 1.0 2.0 3.0]\n",
      " [4.0 5.0 -- --]]\n",
      "<class 'numpy.ma.core.MaskedArray'>\n"
     ]
    }
   ],
   "source": [
    "m1 = MA.masked_array(range(1, 9))\n",
    "print(m1)\n",
    "\n",
    "m2 = m1.reshape((2,4))\n",
    "print(m2)\n",
    "\n",
    "m3 = MA.masked_where(m2 > 6, m2)\n",
    "print(m3)\n",
    "\n",
    "print(np.multiply(m3, 100))\n",
    "\n",
    "m4 = np.subtract(m3,  np.ones(m3.shape))\n",
    "print(m4)\n",
    "print(type(m4))"
   ]
  }
 ],
 "metadata": {
  "kernelspec": {
   "display_name": "Python 3 + Jaspy",
   "language": "python",
   "name": "jaspy"
  },
  "language_info": {
   "codemirror_mode": {
    "name": "ipython",
    "version": 3
   },
   "file_extension": ".py",
   "mimetype": "text/x-python",
   "name": "python",
   "nbconvert_exporter": "python",
   "pygments_lexer": "ipython3",
   "version": "3.8.12"
  }
 },
 "nbformat": 4,
 "nbformat_minor": 4
}
